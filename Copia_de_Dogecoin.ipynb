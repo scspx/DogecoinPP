{
  "nbformat": 4,
  "nbformat_minor": 0,
  "metadata": {
    "colab": {
      "name": "Copia de Dogecoin.ipynb",
      "provenance": [],
      "authorship_tag": "ABX9TyM9IgOan0BbYFzhsoqTJr4K",
      "include_colab_link": true
    },
    "kernelspec": {
      "name": "python3",
      "display_name": "Python 3"
    },
    "language_info": {
      "name": "python"
    }
  },
  "cells": [
    {
      "cell_type": "markdown",
      "metadata": {
        "id": "view-in-github",
        "colab_type": "text"
      },
      "source": [
        "<a href=\"https://colab.research.google.com/github/scspx/DogecoinPP/blob/main/Copia_de_Dogecoin.ipynb\" target=\"_parent\"><img src=\"https://colab.research.google.com/assets/colab-badge.svg\" alt=\"Open In Colab\"/></a>"
      ]
    },
    {
      "cell_type": "code",
      "metadata": {
        "id": "jhActyTgrL6J"
      },
      "source": [
        "#DEscription Thid programan attempts to predict the future price of Dogecoin"
      ],
      "execution_count": null,
      "outputs": []
    },
    {
      "cell_type": "code",
      "metadata": {
        "id": "Nda-JJN78Kkx"
      },
      "source": [
        "#Import the librsries\n",
        "import numpy as np\n",
        "import pandas as pd\n"
      ],
      "execution_count": null,
      "outputs": []
    },
    {
      "cell_type": "code",
      "metadata": {
        "id": "6O3CDemO8bRr"
      },
      "source": [
        "#Load the data\n",
        "from google.colab import files\n",
        "#files.unpload()"
      ],
      "execution_count": null,
      "outputs": []
    },
    {
      "cell_type": "code",
      "metadata": {
        "id": "PogFhZWOA0p1"
      },
      "source": [
        "#Store the data\n",
        "df = pd.read_csv('Doge.csv')\n",
        "#Set index to be the date\n",
        "df = df.set_index(pd.DatetimeIndex(df['Date'].values))\n",
        "#Show the data\n",
        "df"
      ],
      "execution_count": null,
      "outputs": []
    },
    {
      "cell_type": "code",
      "metadata": {
        "id": "95lJo8sdBM31"
      },
      "source": [
        "#Get the close price\n",
        "df = df[['Close']]\n",
        "#Show the data\n",
        "df"
      ],
      "execution_count": null,
      "outputs": []
    },
    {
      "cell_type": "code",
      "metadata": {
        "id": "lfnCGA5jFbpb"
      },
      "source": [
        "#Create a variable to store the number of days into the future that we want to predict\n",
        "prediction_days = 1\n",
        "#Create a new column called Prediction\n",
        "df['Prediction'] = df[['Close']].shift(-prediction_days)\n",
        "#Show the data\n",
        "df"
      ],
      "execution_count": null,
      "outputs": []
    },
    {
      "cell_type": "code",
      "metadata": {
        "id": "wzuFb5xxGpCs"
      },
      "source": [
        "#Create the independent data set (x)\n",
        "X = np.array(df.drop(['Prediction'], 1))\n",
        "#Remove the last n+1 rows of data where n is the prediction_days\n",
        "X = X[:len(df) -prediction_days -1]\n",
        "#Print the data\n",
        "print(x)"
      ],
      "execution_count": null,
      "outputs": []
    },
    {
      "cell_type": "code",
      "metadata": {
        "id": "sE3DEAiOHdm5"
      },
      "source": [
        "#create a dependet dataset (y)\n",
        "y = np.array(df['Prediction'])\n",
        "#Get all of the values except the last n+1 rows\n",
        "y = y[:-prediction_days - 1]\n",
        "#Show the data\n",
        "print(y)"
      ],
      "execution_count": null,
      "outputs": []
    },
    {
      "cell_type": "code",
      "metadata": {
        "id": "K495urxOVh2s"
      },
      "source": [
        "#Split the data into 80% training data set and 20% testing data set\n",
        "from sklearn.model_selection import train_test_split\n",
        "x_train, x_test, y_train, y_test = train_test_split(x, y, test_size = 0.2)"
      ],
      "execution_count": null,
      "outputs": []
    },
    {
      "cell_type": "code",
      "metadata": {
        "id": "2S2rLhLBXDyl"
      },
      "source": [
        "#Use the RandomForestRegressor for the model\n",
        "from sklearn.ensemble import RandomForestRegressor\n",
        "forest = RandomForestRegressor(n_estimators = 2, random_state = 587)\n",
        "forest.fit(x_train, y_train)\n",
        "print(forest.score(x_test, y_test))"
      ],
      "execution_count": null,
      "outputs": []
    },
    {
      "cell_type": "code",
      "metadata": {
        "id": "gmyGmBmOdmiw"
      },
      "source": [
        "#Show how clse the predicted values and the actual values are\n",
        "prediction = forest.predict(x_test)\n",
        "#Print the predicted test values\n",
        "print(prediction)\n",
        "print()\n",
        "#Print the actual values\n",
        "print(y_test)"
      ],
      "execution_count": null,
      "outputs": []
    },
    {
      "cell_type": "code",
      "metadata": {
        "id": "TBytwbsBe72g"
      },
      "source": [
        "#Get the validation data for the model\n",
        "#Create a variable to store all of the rows in the data set except the last n rows\n",
        "temp_df = df[:-prediction_days]\n",
        "#Create avariable to store the independent price value\n",
        "x_val = temp_df.tail(1)['Close'][0]\n",
        "#Show the data\n",
        "print(x_val)"
      ],
      "execution_count": null,
      "outputs": []
    },
    {
      "cell_type": "code",
      "metadata": {
        "id": "R9w3blLZf_PW"
      },
      "source": [
        "prediction = forest.predict([[x_val]])\n",
        "#Print the price of dogecoin for the next n days\n",
        "print('The price of Dogecoin', prediction_days, 'day(s) is predicted to be', prediction)\n",
        "#Print the actual value for the next n days\n",
        "print('The actual price was', temp_df.tail(1)['Prediction'][0])"
      ],
      "execution_count": null,
      "outputs": []
    },
    {
      "cell_type": "code",
      "metadata": {
        "id": "0cMKuJ74hU0n"
      },
      "source": [
        ""
      ],
      "execution_count": null,
      "outputs": []
    }
  ]
}